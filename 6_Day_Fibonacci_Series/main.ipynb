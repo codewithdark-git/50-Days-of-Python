{
 "cells": [
  {
   "cell_type": "markdown",
   "metadata": {},
   "source": [
    "\n",
    "### Fibonacci series and the following methods are used:"
   ]
  },
  {
   "cell_type": "markdown",
   "metadata": {},
   "source": [
    "Certainly! The Fibonacci sequence is a series of numbers where each number is the sum of the two preceding ones, usually starting with 0 and 1. Here's a simple Python example to generate the Fibonacci series:"
   ]
  },
  {
   "cell_type": "code",
   "execution_count": null,
   "metadata": {},
   "outputs": [],
   "source": [
    "def fibonacci(n):\n",
    "    fib_series = [0, 1]  # Initialize with the first two Fibonacci numbers\n",
    "\n",
    "    for i in range(2, n):\n",
    "        next_number = fib_series[i - 1] + fib_series[i - 2]\n",
    "        fib_series.append(next_number)\n",
    "\n",
    "    return fib_series[:n]  # Return the first n numbers in the Fibonacci series\n",
    "\n",
    "# Example usage:\n",
    "n = 10  # Change this value to get a different number of Fibonacci numbers\n",
    "result = fibonacci(n)\n",
    "print(f\"The first {n} numbers in the Fibonacci series are: {result}\")\n"
   ]
  },
  {
   "cell_type": "markdown",
   "metadata": {},
   "source": [
    "This Python function, fibonacci(n), takes a parameter n and generates the first n numbers of the Fibonacci sequence.\n",
    "\n",
    "You can adjust the value of n to generate a different number of Fibonacci sequence elements."
   ]
  },
  {
   "cell_type": "markdown",
   "metadata": {},
   "source": [
    "### Other Methods"
   ]
  },
  {
   "cell_type": "code",
   "execution_count": null,
   "metadata": {},
   "outputs": [],
   "source": [
    "def fib(n):\n",
    "    a, b = 0, 1\n",
    "    while a < n:\n",
    "        print(a, end=' ')\n",
    "        a, b = b, a+b\n",
    "    print()\n",
    "fib(10000)"
   ]
  }
 ],
 "metadata": {
  "kernelspec": {
   "display_name": "Python 3",
   "language": "python",
   "name": "python3"
  },
  "language_info": {
   "codemirror_mode": {
    "name": "ipython",
    "version": 3
   },
   "file_extension": ".py",
   "mimetype": "text/x-python",
   "name": "python",
   "nbconvert_exporter": "python",
   "pygments_lexer": "ipython3",
   "version": "3.10.11"
  }
 },
 "nbformat": 4,
 "nbformat_minor": 2
}
