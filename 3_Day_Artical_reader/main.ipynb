{
 "cells": [
  {
   "cell_type": "markdown",
   "metadata": {},
   "source": [
    "# Artical_Reader"
   ]
  },
  {
   "cell_type": "markdown",
   "metadata": {},
   "source": [
    "## Import Libraries\n",
    "##### In this code block, you import the necessary libraries, including newspaper for article parsing, gTTS for text-to-speech conversion, os for file operations, and pyttsx3 for text-to-speech.\n",
    "*pip install gtts*\n",
    "\n",
    "*pip install os*\n",
    "\n",
    "*pip install pyttsx3*\n",
    "\n",
    "*pip install newspaper3k*\n"
   ]
  },
  {
   "cell_type": "code",
   "execution_count": null,
   "metadata": {},
   "outputs": [],
   "source": [
    "from newspaper import Article\n",
    "from gtts import gTTS\n",
    "import os\n",
    "import pyttsx3\n",
    "\n",
    "engine = pyttsx3.init()\n",
    "chatStr = \"\"\n"
   ]
  },
  {
   "cell_type": "markdown",
   "metadata": {},
   "source": [
    "## Define the 'say' Function\n",
    "##### This code block defines a function called say that takes text as input, uses pyttsx3 to convert it into speech, and then speaks the text."
   ]
  },
  {
   "cell_type": "code",
   "execution_count": null,
   "metadata": {},
   "outputs": [],
   "source": [
    "def say(text):\n",
    "    engine.say(text)\n",
    "    engine.runAndWait()\n"
   ]
  },
  {
   "cell_type": "markdown",
   "metadata": {},
   "source": [
    "## Define the 'read_article' Function\n",
    "##### This code block defines a function named read_article that takes a URL as input, downloads and parses an article from the web using the newspaper library, extracts the title and content, generates an audio file with the title and content, and plays it using the say function."
   ]
  },
  {
   "cell_type": "code",
   "execution_count": null,
   "metadata": {},
   "outputs": [],
   "source": [
    "def read_article(url):\n",
    "    article = Article(url)\n",
    "    article.download()\n",
    "    article.parse()\n",
    "\n",
    "    title = article.title\n",
    "    content = article.text\n",
    "\n",
    "    print(\"Title:\", title)\n",
    "    print(\"Reading...\")\n",
    "\n",
    "    tts = gTTS(title + content, lang='en')\n",
    "    tts.save(\"read_article.mp3\")\n",
    "\n",
    "    say(\"start read_article.mp3\")\n"
   ]
  },
  {
   "cell_type": "markdown",
   "metadata": {},
   "source": [
    "## User Input and Execution\n",
    "##### In this final code block, the script prompts the user to enter a URL of the article they want to read. It then calls the read_article function with the provided URL, catching and handling any exceptions that might occur during the process."
   ]
  },
  {
   "cell_type": "code",
   "execution_count": null,
   "metadata": {},
   "outputs": [],
   "source": [
    "if __name__ == \"__main__\":\n",
    "    article_url = input(\"Enter the URL of the article you want to read: \")\n",
    "\n",
    "    try:\n",
    "        read_article(article_url)\n",
    "    except Exception as e:\n",
    "        print(\"An error occurred:\", str(e))\n"
   ]
  }
 ],
 "metadata": {
  "kernelspec": {
   "display_name": "Python 3",
   "language": "python",
   "name": "python3"
  },
  "language_info": {
   "codemirror_mode": {
    "name": "ipython",
    "version": 3
   },
   "file_extension": ".py",
   "mimetype": "text/x-python",
   "name": "python",
   "nbconvert_exporter": "python",
   "pygments_lexer": "ipython3",
   "version": "3.12.0"
  }
 },
 "nbformat": 4,
 "nbformat_minor": 2
}
