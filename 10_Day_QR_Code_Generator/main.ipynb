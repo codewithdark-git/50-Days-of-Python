{
 "cells": [
  {
   "cell_type": "markdown",
   "metadata": {},
   "source": [
    "### QRCode Generater . . . . ."
   ]
  },
  {
   "cell_type": "code",
   "execution_count": 5,
   "metadata": {},
   "outputs": [],
   "source": [
    "import qrcode\n",
    "\n",
    "data = \"https://facebook.com/codewithdark.fb\"\n",
    "img = qrcode.make(data)\n",
    "file_name = input(\"Enter the file name :\")\n",
    "img.save(f\"{file_name}.png\")\n"
   ]
  },
  {
   "cell_type": "code",
   "execution_count": 1,
   "metadata": {},
   "outputs": [],
   "source": [
    "import qrcode\n",
    "import random\n",
    "import string\n",
    " \n",
    "file_name = ''.join(random.choice(string.ascii_letters)for _ in range(4))\n",
    "data = \"https://facebook.com/codewithdark.fb\"\n",
    "img = qrcode.make(data)\n",
    "\n",
    "img.save(f\"{file_name}.png\")\n"
   ]
  }
 ],
 "metadata": {
  "kernelspec": {
   "display_name": "Python 3",
   "language": "python",
   "name": "python3"
  },
  "language_info": {
   "codemirror_mode": {
    "name": "ipython",
    "version": 3
   },
   "file_extension": ".py",
   "mimetype": "text/x-python",
   "name": "python",
   "nbconvert_exporter": "python",
   "pygments_lexer": "ipython3",
   "version": "3.12.0"
  }
 },
 "nbformat": 4,
 "nbformat_minor": 2
}
