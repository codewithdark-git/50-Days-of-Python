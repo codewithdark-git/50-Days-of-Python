{
 "cells": [
  {
   "cell_type": "markdown",
   "metadata": {},
   "source": [
    "## Prank_msg on on display like Virus"
   ]
  },
  {
   "cell_type": "code",
   "execution_count": 1,
   "metadata": {},
   "outputs": [
    {
     "name": "stdout",
     "output_type": "stream",
     "text": [
      "Program automatically stopped after 2 minutes.\n"
     ]
    }
   ],
   "source": [
    "import ctypes\n",
    "import time\n",
    "import random\n",
    "import keyboard\n",
    "\n",
    "friends = ('Donkey', 'Monkey', 'MemeLord', 'Sloth', 'Ninja', 'Penguin', 'Robot', 'Unicorn', 'Wizard', 'Zombie', 'Alien', 'Pirate', 'Squirrel', 'Ghost', 'Bot', 'Vampire', 'Dragon', 'Noob')\n",
    "start_time = time.time()\n",
    "while True:\n",
    "    \n",
    "    friend = random.choice(friends)\n",
    "    ctypes.windll.user32.MessageBoxW(0, f\"You are a {friend}\", \"Prank\", 1)\n",
    "    time.sleep(0.1)  # Adjust the time interval\n",
    "\n",
    "    elapsed_time = time.time() - start_time\n",
    "    if elapsed_time >= 20:  # 2 minutes in seconds\n",
    "        print(\"Program automatically stopped after 2 minutes.\")\n",
    "        break\n",
    "    "
   ]
  }
 ],
 "metadata": {
  "kernelspec": {
   "display_name": "Python 3",
   "language": "python",
   "name": "python3"
  },
  "language_info": {
   "codemirror_mode": {
    "name": "ipython",
    "version": 3
   },
   "file_extension": ".py",
   "mimetype": "text/x-python",
   "name": "python",
   "nbconvert_exporter": "python",
   "pygments_lexer": "ipython3",
   "version": "3.12.0"
  }
 },
 "nbformat": 4,
 "nbformat_minor": 2
}
