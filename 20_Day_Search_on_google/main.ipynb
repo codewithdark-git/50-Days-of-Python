{
 "cells": [
  {
   "cell_type": "markdown",
   "metadata": {},
   "source": [
    "### Search on Google"
   ]
  },
  {
   "cell_type": "markdown",
   "metadata": {},
   "source": [
    "This Python script utilizes the `googlesearch` library to perform a Google search and retrieve a specified number of results based on user input. Let's break down the script:\n",
    "\n",
    "1. **Function `google_search(query, num_results=10):`**\n",
    "    - This function takes two parameters: `query` (the search query string) and `num_results` (the number of search results to fetch, with a default value of 10).\n",
    "    - It uses the `search` function from the `googlesearch` library to perform the Google search.\n",
    "    - The search results are returned.\n",
    "\n",
    "2. **`if __name__ == \"__main__\":`**\n",
    "    - This block of code is executed only if the script is run directly (not imported as a module).\n",
    "\n",
    "3. **User Input:**\n",
    "    - The user is prompted to enter a Google search query and the number of results to fetch.\n",
    "\n",
    "4. **Function Call:**\n",
    "    - The `google_search` function is called with the user-provided query and the specified number of results.\n",
    "\n",
    "5. **Displaying Results:**\n",
    "    - If search results are obtained, the script prints the results with their corresponding index numbers.\n",
    "    - If no results are found, it prints \"No results found.\"\n",
    "\n",
    "6. **Error Handling:**\n",
    "    - The script includes a basic exception handling block to catch any errors that may occur during the search, printing an error message if an exception is raised.\n",
    "\n",
    "**Note:** Ensure you have the `googlesearch-python` library installed (`pip install googlesearch-python`) before running this script. Also, be aware that web scraping and automated searches may be subject to the terms of service of the search engine, and you should use such scripts responsibly and in compliance with those terms."
   ]
  },
  {
   "cell_type": "code",
   "execution_count": null,
   "metadata": {},
   "outputs": [],
   "source": [
    "from googlesearch import search\n",
    "\n",
    "def google_search(query, num_results=10):\n",
    "    try:\n",
    "        search_results = search(query, num_results=num_results)\n",
    "        return search_results\n",
    "    except Exception as e:\n",
    "        return [f\"Search error: {e}\"]\n",
    "\n",
    "if __name__ == \"__main__\":\n",
    "    query = input(\"Enter your Google search query: \")\n",
    "    num_results = int(input(\"Enter the number of results to fetch: \"))\n",
    "\n",
    "    search_results = google_search(query, num_results)\n",
    "\n",
    "    if search_results:\n",
    "        print(\"Search Results:\")\n",
    "        for i, result in enumerate(search_results, start=1):\n",
    "            if i <= num_results:\n",
    "                print(f\"{i}. {result}\")\n",
    "            else:\n",
    "                break\n",
    "    else:\n",
    "        print(\"No results found.\")\n"
   ]
  }
 ],
 "metadata": {
  "kernelspec": {
   "display_name": "Python 3",
   "language": "python",
   "name": "python3"
  },
  "language_info": {
   "codemirror_mode": {
    "name": "ipython",
    "version": 3
   },
   "file_extension": ".py",
   "mimetype": "text/x-python",
   "name": "python",
   "nbconvert_exporter": "python",
   "pygments_lexer": "ipython3",
   "version": "3.12.0"
  }
 },
 "nbformat": 4,
 "nbformat_minor": 2
}
