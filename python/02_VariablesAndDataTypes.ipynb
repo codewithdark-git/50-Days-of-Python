{
 "cells": [
  {
   "cell_type": "markdown",
   "metadata": {},
   "source": [
    "### Variables and Data Types in Python\n",
    "\n",
    "## Introduction to Variables\n",
    "\n",
    "A variable is a container for storing data values.\n",
    "Python does not require explicit declaration; variables are assigned dynamically.\n"
   ]
  },
  {
   "cell_type": "code",
   "execution_count": null,
   "metadata": {},
   "outputs": [],
   "source": [
    "\n",
    "# Assigning Variables\n",
    "x = 10      # Integer\n",
    "y = 3.14    # Float\n",
    "name = \"Ahsan Umar\"  # String\n",
    "is_active = True  # Boolean\n",
    "\n",
    "print(\"Integer:\", x)\n",
    "print(\"Float:\", y)\n",
    "print(\"String:\", name)\n",
    "print(\"Boolean:\", is_active)"
   ]
  },
  {
   "cell_type": "code",
   "execution_count": null,
   "metadata": {},
   "outputs": [],
   "source": [
    "# Checking Data Types\n",
    "print(type(x))  # Output: <class 'int'>\n",
    "print(type(y))  # Output: <class 'float'>\n",
    "print(type(name))  # Output: <class 'str'>\n",
    "print(type(is_active))  # Output: <class 'bool'>\n"
   ]
  },
  {
   "cell_type": "code",
   "execution_count": null,
   "metadata": {},
   "outputs": [],
   "source": [
    "# Multiple Assignments\n",
    "a, b, c = 5, \"Hello\", 4.5\n",
    "print(a, b, c)"
   ]
  },
  {
   "cell_type": "code",
   "execution_count": null,
   "metadata": {},
   "outputs": [],
   "source": [
    "# Type Conversion\n",
    "num_str = \"100\"\n",
    "num_int = int(num_str)  # Convert string to integer\n",
    "num_float = float(num_int)  # Convert integer to float\n",
    "\n",
    "print(\"Converted Integer:\", num_int)\n",
    "print(\"Converted Float:\", num_float)"
   ]
  },
  {
   "cell_type": "code",
   "execution_count": null,
   "metadata": {},
   "outputs": [],
   "source": [
    "# Data Structures in Python\n",
    "list_example = [1, 2, 3, \"Python\", 3.14]  # List\n",
    "print(\"List:\", list_example)\n",
    "\n",
    "tuple_example = (10, 20, \"Data\", 2.5)  # Tuple\n",
    "print(\"Tuple:\", tuple_example)\n",
    "\n",
    "dict_example = {\"name\": \"Ahsan\", \"age\": 25}  # Dictionary\n",
    "print(\"Dictionary:\", dict_example)\n",
    "\n",
    "set_example = {1, 2, 3, 4, 5}  # Set\n",
    "print(\"Set:\", set_example)"
   ]
  },
  {
   "cell_type": "markdown",
   "metadata": {},
   "source": [
    "## Mutable vs Immutable Types\n",
    "\n",
    "Lists and dictionaries are mutable (can be modified), whereas tuples and strings are immutable (cannot be changed).\n",
    "\n"
   ]
  },
  {
   "cell_type": "code",
   "execution_count": null,
   "metadata": {},
   "outputs": [],
   "source": [
    "list_example[0] = 100  # This works\n",
    "# tuple_example[0] = 100  # This will cause an error because tuples are immutable\n",
    "\n",
    "print(\"Modified List:\", list_example)"
   ]
  }
 ],
 "metadata": {
  "kernelspec": {
   "display_name": "Python 3",
   "language": "python",
   "name": "python3"
  }
 },
 "nbformat": 4,
 "nbformat_minor": 2
}
