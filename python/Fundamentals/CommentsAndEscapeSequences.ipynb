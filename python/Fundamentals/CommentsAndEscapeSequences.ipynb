{
 "cells": [
  {
   "cell_type": "markdown",
   "metadata": {},
   "source": [
    "### Comments and Escape Sequence Characters in Python\n",
    "\n",
    "# 1. Comments in Python\n",
    "\n",
    "Comments are used to explain code and make it more readable. <br>\n",
    "Python supports single-line and multi-line comments.\n"
   ]
  },
  {
   "cell_type": "code",
   "execution_count": 1,
   "metadata": {},
   "outputs": [
    {
     "name": "stdout",
     "output_type": "stream",
     "text": [
      "Hello, World!\n"
     ]
    },
    {
     "data": {
      "text/plain": [
       "'\\nThis is also a valid multi-line comment\\nusing triple single quotes.\\n'"
      ]
     },
     "execution_count": 1,
     "metadata": {},
     "output_type": "execute_result"
    }
   ],
   "source": [
    "# Single-line Comment\n",
    "# This is a single-line comment\n",
    "print(\"Hello, World!\")  # This prints \"Hello, World!\"\n",
    "\n",
    "# Multi-line Comment\n",
    "\"\"\"\n",
    "This is a multi-line comment.\n",
    "It spans multiple lines.\n",
    "Python ignores comments during execution.\n",
    "\"\"\"\n",
    "\n",
    "# Another way to write multi-line comments\n",
    "'''\n",
    "This is also a valid multi-line comment\n",
    "using triple single quotes.\n",
    "'''"
   ]
  },
  {
   "cell_type": "markdown",
   "metadata": {},
   "source": [
    "# 2. Escape Sequence Characters\n",
    "\n",
    "\"\"\"\n",
    "Escape sequences allow the inclusion of special characters in strings.\n",
    "Common escape sequences:\n",
    "- \\n - Newline\n",
    "- \\t - Tab\n",
    "- \\\\ - Backslash\n",
    "- \\' - Single quote\n",
    "- \\\" - Double quote\n",
    "- \\r - Carriage return\n",
    "- \\b - Backspace\n",
    "\"\"\"\n"
   ]
  },
  {
   "cell_type": "code",
   "execution_count": 2,
   "metadata": {},
   "outputs": [
    {
     "name": "stdout",
     "output_type": "stream",
     "text": [
      "Hello\n",
      "World\n",
      "Hello\tWorld\n",
      "This is a backslash: \\\n",
      "She said, \"Hello!\"\n",
      "It's a nice day\n",
      "Worldage return example: Hello\n",
      "Backspace example: HellWorld\n"
     ]
    }
   ],
   "source": [
    "# Example of Escape Sequences\n",
    "print(\"Hello\\nWorld\")  # Newline\n",
    "print(\"Hello\\tWorld\")  # Tab space\n",
    "print(\"This is a backslash: \\\\\")  # Backslash\n",
    "print(\"She said, \\\"Hello!\\\"\")  # Double quote inside string\n",
    "print('It\\'s a nice day')  # Single quote inside string\n",
    "print(\"Carriage return example: Hello\\rWorld\")\n",
    "print(\"Backspace example: Hello\\bWorld\")"
   ]
  },
  {
   "cell_type": "code",
   "execution_count": 3,
   "metadata": {},
   "outputs": [
    {
     "name": "stdout",
     "output_type": "stream",
     "text": [
      "C:\\new_folder\\test\n"
     ]
    }
   ],
   "source": [
    "# Raw Strings (Ignoring Escape Sequences)\n",
    "raw_str = r\"C:\\new_folder\\test\"  # The 'r' before the string makes it raw\n",
    "print(raw_str)  # Output: C:\\new_folder\\test"
   ]
  },
  {
   "cell_type": "code",
   "execution_count": null,
   "metadata": {},
   "outputs": [],
   "source": [
    "\"\"\"\n",
    "Comments and escape sequences enhance code readability and usability.\n",
    "They help in documentation and formatting outputs effectively.\n",
    "\"\"\""
   ]
  }
 ],
 "metadata": {
  "kernelspec": {
   "display_name": "Python 3",
   "language": "python",
   "name": "python3"
  },
  "language_info": {
   "codemirror_mode": {
    "name": "ipython",
    "version": 3
   },
   "file_extension": ".py",
   "mimetype": "text/x-python",
   "name": "python",
   "nbconvert_exporter": "python",
   "pygments_lexer": "ipython3",
   "version": "3.12.4"
  }
 },
 "nbformat": 4,
 "nbformat_minor": 2
}
