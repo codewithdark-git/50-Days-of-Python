{
 "cells": [
  {
   "cell_type": "markdown",
   "metadata": {},
   "source": [
    "### First Main Program in Python\n",
    "\n",
    "# Introduction to Python\n",
    "\n",
    "Python is a high-level, interpreted programming language known for its simplicity and readability.\n",
    "It is widely used for web development, data science, automation, artificial intelligence, and more.\n"
   ]
  },
  {
   "cell_type": "code",
   "execution_count": 3,
   "metadata": {},
   "outputs": [
    {
     "name": "stdout",
     "output_type": "stream",
     "text": [
      "Hello, World!\n"
     ]
    }
   ],
   "source": [
    "# Writing Your First Python Program\n",
    "print(\"Hello, World!\")  # This prints \"Hello, World!\" to the console\n"
   ]
  },
  {
   "cell_type": "markdown",
   "metadata": {},
   "source": [
    "\n",
    "# Running Python Code\n",
    "\n",
    "There are multiple ways to run Python code:\n",
    "1. Using the interactive Python shell (REPL) - Open terminal and type `python` or `python3`.\n",
    "2. Writing a script in a `.py` file and running it with `python filename.py`.\n",
    "3. Using Jupyter Notebook for interactive development.\n"
   ]
  },
  {
   "cell_type": "code",
   "execution_count": null,
   "metadata": {},
   "outputs": [],
   "source": [
    "# Python as a Calculator\n",
    "print(5 + 3)   # Addition\n",
    "print(10 - 2)  # Subtraction\n",
    "print(4 * 6)   # Multiplication\n",
    "print(8 / 2)   # Division"
   ]
  },
  {
   "cell_type": "code",
   "execution_count": null,
   "metadata": {},
   "outputs": [],
   "source": [
    "# Taking User Input\n",
    "name = input(\"Enter your name: \")\n",
    "print(\"Hello,\", name)\n"
   ]
  },
  {
   "cell_type": "markdown",
   "metadata": {},
   "source": [
    "# Indentation in Python\n",
    "\n",
    "Python uses indentation (spaces or tabs) to define blocks of code instead of using curly braces `{}`.\n"
   ]
  },
  {
   "cell_type": "code",
   "execution_count": null,
   "metadata": {},
   "outputs": [],
   "source": [
    "if True:\n",
    "    print(\"This line is indented and belongs to the if statement.\")\n"
   ]
  },
  {
   "cell_type": "markdown",
   "metadata": {},
   "source": [
    "## Dynamic Typing\n",
    "\n",
    "Python is dynamically typed, meaning you don't have to specify the data type when declaring a variable.\n"
   ]
  },
  {
   "cell_type": "code",
   "execution_count": null,
   "metadata": {},
   "outputs": [],
   "source": [
    "num = 10  # Integer\n",
    "text = \"Python\"  # String\n",
    "\n",
    "print(\"Number:\", num)\n",
    "print(\"Text:\", text)\n"
   ]
  }
 ],
 "metadata": {
  "kernelspec": {
   "display_name": "Python 3",
   "language": "python",
   "name": "python3"
  },
  "language_info": {
   "codemirror_mode": {
    "name": "ipython",
    "version": 3
   },
   "file_extension": ".py",
   "mimetype": "text/x-python",
   "name": "python",
   "nbconvert_exporter": "python",
   "pygments_lexer": "ipython3",
   "version": "3.12.4"
  }
 },
 "nbformat": 4,
 "nbformat_minor": 2
}
