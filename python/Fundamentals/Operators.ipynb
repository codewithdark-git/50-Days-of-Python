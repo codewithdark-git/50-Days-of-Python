{
 "cells": [
  {
   "cell_type": "markdown",
   "metadata": {},
   "source": [
    "### Operators in Python\n",
    "\n",
    "## Introduction to Operators\n",
    "\n",
    "Operators are special symbols in Python that carry out operations on variables and values.\n",
    "Python supports various types of operators:\n",
    "1. Arithmetic Operators\n",
    "2. Comparison (Relational) Operators\n",
    "3. Logical Operators\n",
    "4. Bitwise Operators\n",
    "5. Assignment Operators\n",
    "6. Membership Operators\n",
    "7. Identity Operators\n"
   ]
  },
  {
   "cell_type": "code",
   "execution_count": null,
   "metadata": {},
   "outputs": [
    {
     "name": "stdout",
     "output_type": "stream",
     "text": [
      "Addition: 13\n",
      "Subtraction: 7\n",
      "Multiplication: 30\n",
      "Division: 3.3333333333333335\n",
      "Floor Division: 3\n",
      "Modulus: 1\n",
      "Exponentiation: 1000\n"
     ]
    }
   ],
   "source": [
    "# 1. Arithmetic Operators\n",
    "x = 10\n",
    "y = 3\n",
    "print(\"Addition:\", x + y)        # Output: 13\n",
    "print(\"Subtraction:\", x - y)     # Output: 7\n",
    "print(\"Multiplication:\", x * y)  # Output: 30\n",
    "print(\"Division:\", x / y)        # Output: 3.3333\n",
    "print(\"Floor Division:\", x // y) # Output: 3\n",
    "print(\"Modulus:\", x % y)         # Output: 1\n",
    "print(\"Exponentiation:\", x ** y) # Output: 1000"
   ]
  },
  {
   "cell_type": "code",
   "execution_count": 2,
   "metadata": {},
   "outputs": [
    {
     "name": "stdout",
     "output_type": "stream",
     "text": [
      "False\n",
      "True\n",
      "True\n",
      "False\n",
      "True\n",
      "False\n"
     ]
    }
   ],
   "source": [
    "# 2. Comparison Operators\n",
    "print(x == y)  # False\n",
    "print(x != y)  # True\n",
    "print(x > y)   # True\n",
    "print(x < y)   # False\n",
    "print(x >= y)  # True\n",
    "print(x <= y)  # False\n"
   ]
  },
  {
   "cell_type": "code",
   "execution_count": null,
   "metadata": {},
   "outputs": [
    {
     "name": "stdout",
     "output_type": "stream",
     "text": [
      "AND: False\n",
      "OR: True\n",
      "NOT: False\n"
     ]
    }
   ],
   "source": [
    "# 3. Logical Operators\n",
    "a = True\n",
    "b = False\n",
    "print(\"AND:\", a and b)  # False\n",
    "print(\"OR:\", a or b)    # True\n",
    "print(\"NOT:\", not a)    # False"
   ]
  },
  {
   "cell_type": "markdown",
   "metadata": {},
   "source": [
    "### 4. Bitwise Operators\n",
    "Binary: 1010 -> 10\n",
    "Binary: 0011 -> 3\n",
    "\n",
    "### Bitwise AND: \n",
    "Compares each bit of the first operand to the corresponding bit of the second operand. <br>\n",
    "If both bits are 1, the corresponding result bit is set to 1. Otherwise, it is set to 0.\n",
    "*use the symbol **&*** \n",
    "Binary| Dicemal |\n",
    "-----|--  |\n",
    "1010 | 10 |\n",
    "0011 | 3  |\n",
    "-----|--  |\n",
    "0010 | 2  |\n",
    "\n",
    "### Bitwise OR:\n",
    "Compares each bit of the first operand to the corresponding bit of the second operand. <br>\n",
    "If either bit is 1, the corresponding result bit is set to 1. Otherwise, it is set to 0.\n",
    "*use the symbol **|*** \n",
    "Binary| Decimal |\n",
    "----- |--       |\n",
    "1010  | 10      |\n",
    "0011  | 3       |\n",
    "----- |--       |\n",
    "1011  | 11      |\n",
    "\n",
    "### Bitwise XOR: \n",
    "Compares each bit of the first operand to the corresponding bit of the second operand. <br>\n",
    "If the bits are different, the corresponding result bit is set to 1. Otherwise, it is set to 0.\n",
    "\n",
    "*use the symbol **^*** \n",
    "Binary| Decimal |\n",
    "-----|--  |\n",
    "1010 | 10 |\n",
    "0011 | 3  |\n",
    "-----|--  |\n",
    "1001 | 11  |\n",
    "\n",
    "### Bitwise NOT:\n",
    "Inverts all the bits of the operand.\n",
    "*It is equivalent to adding 1 to the operand and then changing the sign.*\n",
    "print(\"Bitwise NOT:\", ~x)     # Output: -11 (Binary: ...11110101 in two's complement form)\n",
    "| Binary | NOT  | Decimal |\n",
    "|--------|------|---------|\n",
    "| 1010   | 0101 | 10      |\n",
    "| 0011   | 1100 | 3       |\n",
    "|--------|------|---------|\n",
    "| 1001   | -11  | 11      |\n",
    "\n",
    "\n",
    "### Left Shift:\n",
    "\n",
    "Shifts the bits of the operand to the left by the number of positions specified.\n",
    "The vacant positions on the right are filled with 0s.\n",
    "\n",
    "print(\"Left Shift:\", x << 2)  # Output: 40 (Binary: 101000)\n",
    "\n",
    "| Binary  | Left Shift (x << 2) | Decimal |\n",
    "|---------|---------------------|---------|\n",
    "| 1010    | 101000              | 40      |\n",
    "| 0011    | 1100                | 12      |\n",
    "| 1001    | 100100              | 36      |\n",
    "\n",
    "### Right Shift:\n",
    "\n",
    "Shifts the bits of the operand to the right by the number of positions specified.\n",
    "The vacant positions on the left are filled with the sign bit (0 for positive numbers).\n",
    "\n",
    "print(\"Right Shift:\", x >> 2)  # Output: 2 (Binary: 0010)\n",
    "\n",
    "Decimal| Binary  | Right Shift (x >> 2) | Decimal |\n",
    "|---------|----------|------------|---------|\n",
    "| 10      | 1010    | 0010        | 2       |\n",
    "| 3       | 0011    | 0000        | 0       |\n",
    "| 9       | 1001    | 0010        | 2       |"
   ]
  },
  {
   "cell_type": "code",
   "execution_count": null,
   "metadata": {},
   "outputs": [
    {
     "name": "stdout",
     "output_type": "stream",
     "text": [
      "Bitwise AND: 2\n",
      "Bitwise OR: 11\n",
      "Bitwise XOR: 9\n",
      "Bitwise NOT: -11\n",
      "Left Shift: 40\n",
      "Right Shift: 2\n"
     ]
    }
   ],
   "source": [
    "# 4. Bitwise Operators\n",
    "x = 10  # Binary: 1010\n",
    "y = 3   # Binary: 0011\n",
    "print(\"Bitwise AND:\", x & y)  # Output: 2\n",
    "print(\"Bitwise OR:\", x | y)   # Output: 11\n",
    "print(\"Bitwise XOR:\", x ^ y)  # Output: 9\n",
    "print(\"Bitwise NOT:\", ~x)     # Output: -11\n",
    "print(\"Left Shift:\", x << 2)  # Output: 40\n",
    "print(\"Right Shift:\", x >> 2) # Output: 2\n"
   ]
  },
  {
   "cell_type": "code",
   "execution_count": 11,
   "metadata": {},
   "outputs": [
    {
     "name": "stdout",
     "output_type": "stream",
     "text": [
      "New a after += 5: 10\n"
     ]
    }
   ],
   "source": [
    "# 5. Assignment Operators\n",
    "a = 5\n",
    "a += 5  # Equivalent to x = x + 5\n",
    "print(\"New a after += 5:\", a)"
   ]
  },
  {
   "cell_type": "code",
   "execution_count": 12,
   "metadata": {},
   "outputs": [
    {
     "name": "stdout",
     "output_type": "stream",
     "text": [
      "Is 3 in list? True\n",
      "Is 10 not in list? True\n"
     ]
    }
   ],
   "source": [
    "# 6. Membership Operators\n",
    "list_example = [1, 2, 3, 4, 5]\n",
    "print(\"Is 3 in list?\", 3 in list_example)  # True\n",
    "print(\"Is 10 not in list?\", 10 not in list_example)  # True"
   ]
  },
  {
   "cell_type": "code",
   "execution_count": 14,
   "metadata": {},
   "outputs": [
    {
     "name": "stdout",
     "output_type": "stream",
     "text": [
      "Is a same as b? True\n",
      "Is c same as d? False\n"
     ]
    }
   ],
   "source": [
    "# 7. Identity Operators\n",
    "a = 10\n",
    "b = 10\n",
    "c = [1, 2, 3]\n",
    "d = [1, 2, 3]\n",
    "print(\"Is a same as b?\", a is b)  # True (because integers are immutable and cached)\n",
    "print(\"Is c same as d?\", c is d)  # False (different memory locations)\n"
   ]
  },
  {
   "cell_type": "code",
   "execution_count": null,
   "metadata": {},
   "outputs": [],
   "source": [
    "\"\"\"\n",
    "Python operators help perform calculations and logical operations efficiently.\n",
    "Understanding them is crucial for writing effective Python code.\n",
    "\"\"\""
   ]
  },
  {
   "cell_type": "code",
   "execution_count": null,
   "metadata": {},
   "outputs": [],
   "source": []
  }
 ],
 "metadata": {
  "kernelspec": {
   "display_name": "Python 3",
   "language": "python",
   "name": "python3"
  },
  "language_info": {
   "codemirror_mode": {
    "name": "ipython",
    "version": 3
   },
   "file_extension": ".py",
   "mimetype": "text/x-python",
   "name": "python",
   "nbconvert_exporter": "python",
   "pygments_lexer": "ipython3",
   "version": "3.12.4"
  }
 },
 "nbformat": 4,
 "nbformat_minor": 2
}
