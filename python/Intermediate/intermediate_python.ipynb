{
 "cells": [
  {
   "cell_type": "markdown",
   "metadata": {},
   "source": [
    "# Intermediate Python Concepts\n",
    "\n",
    "This notebook covers key intermediate Python concepts with examples and explanations."
   ]
  },
  {
   "cell_type": "markdown",
   "metadata": {},
   "source": [
    "## 1. String Manipulation\n",
    "\n",
    "String manipulation is a crucial skill in Python programming."
   ]
  },
  {
   "cell_type": "code",
   "execution_count": null,
   "metadata": {},
   "outputs": [],
   "source": [
    "# String Slicing\n",
    "text = \"Python Programming\"\n",
    "print(f\"Original text: {text}\")\n",
    "print(f\"First 6 characters: {text[0:6]}\")\n",
    "print(f\"Last 11 characters: {text[-11:]}\")\n",
    "print(f\"Every second character: {text[::2]}\")"
   ]
  },
  {
   "cell_type": "code",
   "execution_count": null,
   "metadata": {},
   "outputs": [],
   "source": [
    "# String Methods\n",
    "text = \"  python programming  \"\n",
    "print(f\"\\nStripped: {text.strip()}\")\n",
    "print(f\"Uppercase: {text.upper()}\")\n",
    "print(f\"Title case: {text.title()}\")"
   ]
  },
  {
   "cell_type": "markdown",
   "metadata": {},
   "source": [
    "## 2. List & Dictionary Comprehensions\n",
    "\n",
    "Comprehensions provide a concise way to create lists and dictionaries."
   ]
  },
  {
   "cell_type": "code",
   "execution_count": null,
   "metadata": {},
   "outputs": [],
   "source": [
    "# List Comprehension\n",
    "numbers = range(1, 11)\n",
    "squares = [x**2 for x in numbers]\n",
    "even_numbers = [x for x in numbers if x % 2 == 0]\n",
    "\n",
    "print(f\"Squares: {squares}\")\n",
    "print(f\"Even numbers: {even_numbers}\")"
   ]
  },
  {
   "cell_type": "code",
   "execution_count": null,
   "metadata": {},
   "outputs": [],
   "source": [
    "# Dictionary Comprehension\n",
    "names = ['Alice', 'Bob', 'Charlie']\n",
    "name_lengths = {name: len(name) for name in names}\n",
    "print(f\"Name lengths: {name_lengths}\")"
   ]
  },
  {
   "cell_type": "markdown",
   "metadata": {},
   "source": [
    "## 3. Exception Handling\n",
    "\n",
    "Proper error handling is essential for robust programs."
   ]
  },
  {
   "cell_type": "code",
   "execution_count": null,
   "metadata": {},
   "outputs": [],
   "source": [
    "def divide_numbers(a, b):\n",
    "    try:\n",
    "        result = a / b\n",
    "        return result\n",
    "    except ZeroDivisionError:\n",
    "        return \"Cannot divide by zero!\"\n",
    "    except TypeError:\n",
    "        return \"Invalid input types!\"\n",
    "    finally:\n",
    "        print(\"Division operation completed\")"
   ]
  },
  {
   "cell_type": "code",
   "execution_count": null,
   "metadata": {},
   "outputs": [],
   "source": [
    "print(divide_numbers(10, 2))\n",
    "print(divide_numbers(10, 0))\n",
    "print(divide_numbers('10', 2))"
   ]
  },
  {
   "cell_type": "markdown",
   "metadata": {},
   "source": [
    "## 4. Lambda Functions & Built-ins\n",
    "\n",
    "Lambda functions provide a way to create small anonymous functions."
   ]
  },
  {
   "cell_type": "code",
   "execution_count": null,
   "metadata": {},
   "outputs": [],
   "source": [
    "from functools import reduce\n",
    "\n",
    "# Lambda with map\n",
    "numbers = [1, 2, 3, 4, 5]\n",
    "doubled = list(map(lambda x: x*2, numbers))\n",
    "print(f\"Doubled: {doubled}\")\n"
   ]
  },
  {
   "cell_type": "code",
   "execution_count": null,
   "metadata": {},
   "outputs": [],
   "source": [
    "# Lambda with filter\n",
    "evens = list(filter(lambda x: x % 2 == 0, numbers))\n",
    "print(f\"Evens: {evens}\")\n",
    "\n",
    "# Lambda with reduce\n",
    "sum_all = reduce(lambda x, y: x + y, numbers)\n",
    "print(f\"Sum: {sum_all}\")"
   ]
  }
 ],
 "metadata": {
  "language_info": {
   "name": "python"
  }
 },
 "nbformat": 4,
 "nbformat_minor": 2
}
