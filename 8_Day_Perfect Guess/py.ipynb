{
 "cells": [
  {
   "cell_type": "code",
   "execution_count": null,
   "metadata": {},
   "outputs": [],
   "source": [
    "import random\n",
    "randNumber = random.randint(1, 10)\n",
    "userGuess = None\n",
    "guesses = 0\n",
    "\n",
    "while(userGuess != randNumber):\n",
    "    userGuess = int(input(\"Enter your guess: \")) # 343445\n",
    "    guesses += 1\n",
    "    if(userGuess==randNumber):\n",
    "        print(\"You guessed it right!\")\n",
    "    else:\n",
    "        if(userGuess>randNumber):\n",
    "            print(\"You guessed it wrong! Enter a smaller number\")\n",
    "        else:\n",
    "            print(\"You guessed it wrong! Enter a larger number\")\n",
    "\n",
    "print(f\"You guessed the number in {guesses} guesses\")\n",
    "with open(\"hiscore.txt\", \"r\") as f:\n",
    "    hiscore = int(f.read())\n",
    "\n",
    "if(guesses<hiscore):\n",
    "    print(\"You have just broken the high score!\")\n",
    "    with open(\"hiscore.txt\", \"w\") as f:\n",
    "        f.write(str(guesses))\n"
   ]
  }
 ],
 "metadata": {
  "kernelspec": {
   "display_name": "Python 3",
   "language": "python",
   "name": "python3"
  },
  "language_info": {
   "codemirror_mode": {
    "name": "ipython",
    "version": 3
   },
   "file_extension": ".py",
   "mimetype": "text/x-python",
   "name": "python",
   "nbconvert_exporter": "python",
   "pygments_lexer": "ipython3",
   "version": "3.12.0"
  }
 },
 "nbformat": 4,
 "nbformat_minor": 2
}
