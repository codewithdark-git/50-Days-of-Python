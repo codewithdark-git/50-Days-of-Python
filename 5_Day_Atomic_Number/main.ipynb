{
 "cells": [
  {
   "cell_type": "markdown",
   "metadata": {},
   "source": [
    "# Element Information"
   ]
  },
  {
   "cell_type": "markdown",
   "metadata": {},
   "source": [
    "### Import the 'periodictable' Library\n",
    "##### In this code block, you import the periodictable library, which allows you to access information about chemical elements."
   ]
  },
  {
   "cell_type": "code",
   "execution_count": null,
   "metadata": {},
   "outputs": [],
   "source": [
    "import periodictable\n"
   ]
  },
  {
   "cell_type": "markdown",
   "metadata": {},
   "source": [
    "### Input and Element Information\n",
    "##### In this code block, you take user input for the atomic number of an element and then use the periodictable library to retrieve information about the corresponding element.\n"
   ]
  },
  {
   "cell_type": "code",
   "execution_count": null,
   "metadata": {},
   "outputs": [],
   "source": [
    "Atomic_No = int(input(\"Enter Element Atomic No: \"))\n",
    "element = periodictable.elements[Atomic_No]\n"
   ]
  },
  {
   "cell_type": "markdown",
   "metadata": {},
   "source": [
    "### Print Element Information\n",
    "##### This code block prints various properties of the selected element, such as atomic number, symbol, name, atomic mass, and density."
   ]
  },
  {
   "cell_type": "code",
   "execution_count": null,
   "metadata": {},
   "outputs": [],
   "source": [
    "print('Atomic_No: ', element.number)\n",
    "print('Symbol: ', element.symbol)\n",
    "print('Name: ', element.name)\n",
    "print('Atomic_Mass: ', element.mass)\n",
    "print('Density: ', element.density)\n"
   ]
  }
 ],
 "metadata": {
  "kernelspec": {
   "display_name": "Python 3",
   "language": "python",
   "name": "python3"
  },
  "language_info": {
   "name": "python",
   "version": "3.12.0"
  }
 },
 "nbformat": 4,
 "nbformat_minor": 2
}
