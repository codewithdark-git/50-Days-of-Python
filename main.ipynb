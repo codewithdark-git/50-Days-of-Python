{
 "cells": [
  {
   "cell_type": "code",
   "execution_count": null,
   "metadata": {},
   "outputs": [],
   "source": [
    "print(\"I like python\")"
   ]
  },
  {
   "cell_type": "code",
   "execution_count": null,
   "metadata": {},
   "outputs": [],
   "source": [
    "hope = \"i like Python\"\n",
    "number = 123\n",
    "flo = 21.3\n",
    "\n",
    "print(f\"'{hope}' this is a string ,\\n{number} its number data type,\\nand {flo} this is a float Data type\")\n"
   ]
  },
  {
   "cell_type": "code",
   "execution_count": null,
   "metadata": {},
   "outputs": [],
   "source": [
    "print(hope.capitalize())\n",
    "print(hope.lower())\n",
    "print(hope.upper())\n",
    "upper = hope.upper()\n",
    "print(upper)\n",
    "print(upper.casefold())\n",
    "print(hope.center(40))\n",
    "print(hope.find(\"like\"))\n",
    "print(hope.expandtabs())\n",
    "print(hope.encode(encoding=\"ascii\"))\n",
    "print(hope.format())\n",
    "lower = hope.lower()\n",
    "print(lower.islower())\n",
    "print(upper.isupper())\n",
    "print(hope.split())\n",
    "print(len(hope))\n",
    "type(hope)"
   ]
  },
  {
   "cell_type": "code",
   "execution_count": null,
   "metadata": {},
   "outputs": [],
   "source": [
    "number = [11,12, 13,14,15,16,17,18,19, 20]\n",
    "index = len(number) - 1\n",
    "print(number)\n",
    "print(len(number))\n",
    "print(index)\n",
    "print(type(number))"
   ]
  },
  {
   "cell_type": "code",
   "execution_count": null,
   "metadata": {},
   "outputs": [],
   "source": [
    "print(number)\n",
    "# print(number.append())"
   ]
  },
  {
   "cell_type": "code",
   "execution_count": null,
   "metadata": {},
   "outputs": [],
   "source": [
    "number_is_tuple = tuple(number)\n",
    "print(number_is_tuple)"
   ]
  },
  {
   "cell_type": "code",
   "execution_count": null,
   "metadata": {},
   "outputs": [],
   "source": [
    "number_is_str = str(number)\n",
    "print(number_is_str)\n",
    "print(number_is_str.isalnum())\n",
    "print(number_is_str.isalpha())\n",
    "print(number_is_str.count('12'))"
   ]
  },
  {
   "cell_type": "code",
   "execution_count": 9,
   "metadata": {},
   "outputs": [
    {
     "name": "stdout",
     "output_type": "stream",
     "text": [
      " hi how\n"
     ]
    }
   ],
   "source": [
    "incoming_msg = input(\"Enter :\").strip()\n",
    "incoming_msg.startswith('#!python3')\n",
    "code = incoming_msg.lstrip('#!python3')\n",
    "print(code)"
   ]
  },
  {
   "cell_type": "code",
   "execution_count": 12,
   "metadata": {},
   "outputs": [
    {
     "name": "stdout",
     "output_type": "stream",
     "text": [
      "Full Prayer Times for Peshawar:\n",
      "Fajr: 2024-04-17 04:27:00\n",
      "Dhuhr: 2024-04-17 12:12:00\n",
      "Asr: 2024-04-17 15:50:00\n",
      "Maghrib: 2024-04-17 18:45:00\n",
      "Isha: 2024-04-17 19:57:00\n"
     ]
    }
   ],
   "source": [
    "import aladhan\n",
    "\n",
    "client = aladhan.Client()\n",
    "loction = input(\"Enter Your location >\")\n",
    "prayer = client.get_timings_by_address(loction)\n",
    "\n",
    "print(f\"Full Prayer Times for {loction}:\")\n",
    "print(f\"Fajr: {prayer.fajr.time}\")\n",
    "print(f\"Dhuhr: {prayer.dhuhr.time}\")\n",
    "print(f\"Asr: {prayer.asr.time}\")\n",
    "print(f\"Maghrib: {prayer.maghrib.time}\")\n",
    "print(f\"Isha: {prayer.isha.time}\")\n"
   ]
  }
 ],
 "metadata": {
  "kernelspec": {
   "display_name": "Python 3",
   "language": "python",
   "name": "python3"
  },
  "language_info": {
   "codemirror_mode": {
    "name": "ipython",
    "version": 3
   },
   "file_extension": ".py",
   "mimetype": "text/x-python",
   "name": "python",
   "nbconvert_exporter": "python",
   "pygments_lexer": "ipython3",
   "version": "3.10.11"
  }
 },
 "nbformat": 4,
 "nbformat_minor": 2
}
